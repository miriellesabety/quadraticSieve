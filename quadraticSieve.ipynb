{
 "cells": [
  {
   "cell_type": "code",
   "execution_count": 1,
   "metadata": {
    "collapsed": false
   },
   "outputs": [
   ],
   "source": [
    "#Problem 1"
   ]
  },
  {
   "cell_type": "code",
   "execution_count": 2,
   "metadata": {
    "collapsed": false
   },
   "outputs": [
   ],
   "source": [
    "def fast2Power(a,n,m):\n",
    "    a1=a\n",
    "    b=1\n",
    "    while true:\n",
    "        if n%2==1:\n",
    "            b=(b*a1)%m\n",
    "        a1=(a1^2)%m\n",
    "        n=floor(n/2)\n",
    "        if n>0:\n",
    "            continue\n",
    "        else:\n",
    "            return b"
   ]
  },
  {
   "cell_type": "code",
   "execution_count": 3,
   "metadata": {
    "collapsed": false
   },
   "outputs": [
   ],
   "source": [
    "def extendedGCD(a,b):\n",
    "    r0=a\n",
    "    r=b\n",
    "    s0=1\n",
    "    s=0\n",
    "    t0=0\n",
    "    t=1\n",
    "    while(r>0):\n",
    "        tempr=r\n",
    "        temps=s\n",
    "        tempt=t\n",
    "        q=r0//r\n",
    "        r=r0-q*r\n",
    "        s=s0-q*s\n",
    "        t=t0-q*t\n",
    "        r0=tempr\n",
    "        s0=temps\n",
    "        t0=tempt\n",
    "    return [r0,s0,t0]"
   ]
  },
  {
   "cell_type": "code",
   "execution_count": 4,
   "metadata": {
    "collapsed": false
   },
   "outputs": [
   ],
   "source": [
    "#Problem 1)"
   ]
  },
  {
   "cell_type": "code",
   "execution_count": 5,
   "metadata": {
    "collapsed": false
   },
   "outputs": [
   ],
   "source": [
    "def findSquareRoot(a,p):\n",
    "    if fast2Power(a,(p-1)/2, p)==1:\n",
    "        if p%4==3:\n",
    "            x1=fast2Power(a,(p+1)/4, p)\n",
    "            x2=p-x1\n",
    "            solutions=[x1,x2]\n",
    "            return solutions\n",
    "        if p%4==1:\n",
    "            x=1\n",
    "            while x<=(p-1)/2:\n",
    "                if fast2Power(x,2,p)==a%p:\n",
    "                    x2=p-x\n",
    "                    solutions=[x,x2]\n",
    "                    return solutions\n",
    "                    break\n",
    "                else:\n",
    "                    x+=1\n",
    "    else:\n",
    "        solutions=[]\n",
    "    return solutions"
   ]
  },
  {
   "cell_type": "code",
   "execution_count": 6,
   "metadata": {
    "collapsed": false
   },
   "outputs": [
   ],
   "source": [
    "#Problem 2)"
   ]
  },
  {
   "cell_type": "code",
   "execution_count": 38,
   "metadata": {
    "collapsed": false
   },
   "outputs": [
   ],
   "source": [
    "def quadraticSieve(N,m,B):\n",
    "    primes=prime_range(2,B+1)\n",
    "    s=floor(sqrt(N))+1\n",
    "    sieveList=[]\n",
    "    primesUsed=prime_range(2,B+1)\n",
    "    smoothMatrix=[]\n",
    "    m1=0\n",
    "\n",
    "    while m1<m: #makes the list\n",
    "        sieveList+=[((s+m1)^2)-N]\n",
    "        smoothMatrix+=[[((s+m1)^2)-N]]\n",
    "        m1+=1\n",
    "    for i in range(0,len(sieveList)): #this sieves out 2 so all values are odd\n",
    "        while sieveList[i]%2==0:\n",
    "            sieveList[i]=sieveList[i]/2\n",
    "            smoothMatrix[i].append(2)\n",
    "\n",
    "    primes.remove(2)\n",
    "    for p in primes:\n",
    "        if extendedGCD(N,p)[0]==1:\n",
    "            if fast2Power(N,(p-1)/2,p)==1:\n",
    "                x1,y1=findSquareRoot(N,p)\n",
    "                index=s\n",
    "                while index%p!=x1:\n",
    "                    index+=1\n",
    "                index=index-s\n",
    "                p1=p\n",
    "                while index<=len(sieveList)-1:\n",
    "                    while sieveList[index]%p==0:\n",
    "                        sieveList[index]=sieveList[index]/p\n",
    "                        smoothMatrix[index].append(p)\n",
    "                        p1=p1*p\n",
    "                    index+=p\n",
    "\n",
    "                index=s\n",
    "                while index%p!=y1:\n",
    "                    index+=1\n",
    "                index=index-s\n",
    "                p1=p\n",
    "                while index<=len(sieveList)-1:\n",
    "                    while sieveList[index]%p==0:\n",
    "                        sieveList[index]=sieveList[index]/p\n",
    "                        smoothMatrix[index].append(p)\n",
    "                        p1=p1*p\n",
    "                    index+=p\n",
    "            else:\n",
    "                primesUsed.remove(p)\n",
    "        else:\n",
    "            primesUsed.remove(p)\n",
    "    numbersSquaredSmooth=[]\n",
    "    for n in range(0,len(sieveList)):\n",
    "        if sieveList[n]==1:\n",
    "            numbersSquaredSmooth+=[((n+s)^2)-N]\n",
    "    for n in range(1,len(sieveList)):\n",
    "        if sieveList[len(sieveList)-n]!=1:\n",
    "            del smoothMatrix[len(sieveList)-n]\n",
    "    return smoothMatrix, numbersSquaredSmooth, primesUsed"
   ]
  },
  {
   "cell_type": "code",
   "execution_count": 0,
   "metadata": {
    "collapsed": false
   },
   "outputs": [
   ],
   "source": [
    "#Problem 3)"
   ]
  },
  {
   "cell_type": "code",
   "execution_count": 54,
   "metadata": {
    "collapsed": false
   },
   "outputs": [
    {
     "name": "stdout",
     "output_type": "stream",
     "text": [
      "smoothMatrix=  [[4, 2, 2], [35, 5, 7], [140, 2, 2, 5, 7], [220, 2, 2, 5, 11], [308, 2, 2, 7, 11]]\n",
      "numbersSquaredSmooth=  [4, 35, 140, 220, 308]\n",
      "primesUsed=  [2, 5, 7, 11]\n"
     ]
    }
   ],
   "source": [
    "smoothMatrix, numbersSquaredSmooth, primesUsed=quadraticSieve(221,16,11)\n",
    "print(\"smoothMatrix= \", smoothMatrix)\n",
    "print(\"numbersSquaredSmooth= \", numbersSquaredSmooth)\n",
    "print(\"primesUsed= \", primesUsed)"
   ]
  },
  {
   "cell_type": "code",
   "execution_count": 52,
   "metadata": {
    "collapsed": false
   },
   "outputs": [
    {
     "name": "stdout",
     "output_type": "stream",
     "text": [
      "smoothMatrix=  [[2530, 2, 5, 11, 23], [8789, 11, 17, 47], [15050, 2, 5, 5, 7, 43], [235445, 5, 7, 7, 31, 31], [286165, 5, 11, 11, 11, 43], [548114, 2, 7, 7, 7, 17, 47], [1187858, 2, 7, 7, 17, 23, 31], [2107490, 2, 5, 7, 7, 11, 17, 23], [2329250, 2, 5, 5, 5, 7, 11, 11, 11], [2892610, 2, 5, 7, 31, 31, 43], [9519125, 5, 5, 5, 7, 11, 23, 43]]\n",
      "numbersSquaredSmooth=  [2530, 8789, 15050, 235445, 286165, 548114, 1187858, 2107490, 2329250, 2892610, 9519125]\n",
      "primesUsed=  [2, 5, 7, 11, 17, 23, 31, 43, 47]\n"
     ]
    }
   ],
   "source": [
    "smoothMatrix, numbersSquaredSmooth, primesUsed=quadraticSieve(9788111,1700,47)\n",
    "print(\"smoothMatrix= \", smoothMatrix)\n",
    "print(\"numbersSquaredSmooth= \", numbersSquaredSmooth)\n",
    "print(\"primesUsed= \", primesUsed)"
   ]
  },
  {
   "cell_type": "code",
   "execution_count": 0,
   "metadata": {
    "collapsed": false
   },
   "outputs": [
   ],
   "source": [
    "#Problem 4)"
   ]
  },
  {
   "cell_type": "code",
   "execution_count": 179,
   "metadata": {
    "collapsed": false
   },
   "outputs": [
   ],
   "source": [
    "def factorQS(N,m,B):\n",
    "    import numpy as np\n",
    "    newMatrix=[]\n",
    "    for p in primesUsed:\n",
    "        newMatrix.append([p])\n",
    "    for i in smoothMatrix:\n",
    "        del i[0]\n",
    "    y=0\n",
    "    while y<=len(primesUsed)-1:\n",
    "        p=primesUsed[y]\n",
    "        x=0\n",
    "        while x<=len(smoothMatrix)-1:\n",
    "            count=smoothMatrix[x].count(p)\n",
    "            newMatrix[y].append(count)\n",
    "            x+=1\n",
    "        y+=1\n",
    "    for i in newMatrix:\n",
    "        del i[0]\n",
    "\n",
    "    M=matrix(newMatrix)\n",
    "    M=M.transpose()\n",
    "    E=matrix(GF(2), M)\n",
    "    kernel=E.kernel().basis()\n",
    "    basis=np.array(numbersSquaredSmooth)\n",
    "    solutions=[]\n",
    "    w=0\n",
    "    for i in kernel:\n",
    "        j=0\n",
    "        while j<=len(i)-1:\n",
    "            w=w+basis[j]\n",
    "            j+=1\n",
    "        solutions.append(w)\n",
    "    return solutions"
   ]
  },
  {
   "cell_type": "code",
   "execution_count": 180,
   "metadata": {
    "collapsed": false
   },
   "outputs": [
    {
     "data": {
      "text/plain": [
       "[707, 1414, 2121]"
      ]
     },
     "execution_count": 180,
     "metadata": {
     },
     "output_type": "execute_result"
    }
   ],
   "source": [
    "#Problem 5)\n",
    "factorQS(9788111,1700,47)"
   ]
  },
  {
   "cell_type": "code",
   "execution_count": 183,
   "metadata": {
    "collapsed": false
   },
   "outputs": [
    {
     "ename": "IndexError",
     "evalue": "list assignment index out of range",
     "output_type": "error",
     "traceback": [
      "\u001b[0;31m---------------------------------------------------------------------------\u001b[0m",
      "\u001b[0;31mIndexError\u001b[0m                                Traceback (most recent call last)",
      "\u001b[0;32m/tmp/ipykernel_503/3328905352.py\u001b[0m in \u001b[0;36m<module>\u001b[0;34m\u001b[0m\n\u001b[0;32m----> 1\u001b[0;31m \u001b[0mfactorQS\u001b[0m\u001b[0;34m(\u001b[0m\u001b[0mInteger\u001b[0m\u001b[0;34m(\u001b[0m\u001b[0;36m9488773076569\u001b[0m\u001b[0;34m)\u001b[0m\u001b[0;34m,\u001b[0m \u001b[0mInteger\u001b[0m\u001b[0;34m(\u001b[0m\u001b[0;36m17000\u001b[0m\u001b[0;34m)\u001b[0m\u001b[0;34m,\u001b[0m \u001b[0mInteger\u001b[0m\u001b[0;34m(\u001b[0m\u001b[0;36m50\u001b[0m\u001b[0;34m)\u001b[0m\u001b[0;34m)\u001b[0m\u001b[0;34m\u001b[0m\u001b[0;34m\u001b[0m\u001b[0m\n\u001b[0m",
      "\u001b[0;32m/tmp/ipykernel_503/744873356.py\u001b[0m in \u001b[0;36mfactorQS\u001b[0;34m(N, m, B)\u001b[0m\n\u001b[1;32m      5\u001b[0m         \u001b[0mnewMatrix\u001b[0m\u001b[0;34m.\u001b[0m\u001b[0mappend\u001b[0m\u001b[0;34m(\u001b[0m\u001b[0;34m[\u001b[0m\u001b[0mp\u001b[0m\u001b[0;34m]\u001b[0m\u001b[0;34m)\u001b[0m\u001b[0;34m\u001b[0m\u001b[0;34m\u001b[0m\u001b[0m\n\u001b[1;32m      6\u001b[0m     \u001b[0;32mfor\u001b[0m \u001b[0mi\u001b[0m \u001b[0;32min\u001b[0m \u001b[0msmoothMatrix\u001b[0m\u001b[0;34m:\u001b[0m\u001b[0;34m\u001b[0m\u001b[0;34m\u001b[0m\u001b[0m\n\u001b[0;32m----> 7\u001b[0;31m         \u001b[0;32mdel\u001b[0m \u001b[0mi\u001b[0m\u001b[0;34m[\u001b[0m\u001b[0mInteger\u001b[0m\u001b[0;34m(\u001b[0m\u001b[0;36m0\u001b[0m\u001b[0;34m)\u001b[0m\u001b[0;34m]\u001b[0m\u001b[0;34m\u001b[0m\u001b[0;34m\u001b[0m\u001b[0m\n\u001b[0m\u001b[1;32m      8\u001b[0m     \u001b[0my\u001b[0m\u001b[0;34m=\u001b[0m\u001b[0mInteger\u001b[0m\u001b[0;34m(\u001b[0m\u001b[0;36m0\u001b[0m\u001b[0;34m)\u001b[0m\u001b[0;34m\u001b[0m\u001b[0;34m\u001b[0m\u001b[0m\n\u001b[1;32m      9\u001b[0m     \u001b[0;32mwhile\u001b[0m \u001b[0my\u001b[0m\u001b[0;34m<=\u001b[0m\u001b[0mlen\u001b[0m\u001b[0;34m(\u001b[0m\u001b[0mprimesUsed\u001b[0m\u001b[0;34m)\u001b[0m\u001b[0;34m-\u001b[0m\u001b[0mInteger\u001b[0m\u001b[0;34m(\u001b[0m\u001b[0;36m1\u001b[0m\u001b[0;34m)\u001b[0m\u001b[0;34m:\u001b[0m\u001b[0;34m\u001b[0m\u001b[0;34m\u001b[0m\u001b[0m\n",
      "\u001b[0;31mIndexError\u001b[0m: list assignment index out of range"
     ]
    }
   ],
   "source": [
    "factorQS(9488773076569, 17000, 50)"
   ]
  },
  {
   "cell_type": "code",
   "execution_count": 0,
   "metadata": {
    "collapsed": false
   },
   "outputs": [
   ],
   "source": [
   ]
  }
 ],
 "metadata": {
  "kernelspec": {
   "display_name": "SageMath 9.6",
   "language": "sagemath",
   "metadata": {
    "cocalc": {
     "description": "Open-source mathematical software system",
     "priority": 1,
     "url": "https://www.sagemath.org/"
    }
   },
   "name": "sage-9.6",
   "resource_dir": "/ext/jupyter/kernels/sage-9.6"
  },
  "language_info": {
   "codemirror_mode": {
    "name": "ipython",
    "version": 3
   },
   "file_extension": ".py",
   "mimetype": "text/x-python",
   "name": "python",
   "nbconvert_exporter": "python",
   "pygments_lexer": "ipython3",
   "version": "3.10.3"
  }
 },
 "nbformat": 4,
 "nbformat_minor": 4
}